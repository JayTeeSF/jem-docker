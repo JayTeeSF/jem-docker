{
 "metadata": {
  "name": "",
  "signature": "sha256:2006d2fde12a61770dc6c997364f8658a93a616d6b883e02533e56aaf2e76bf9"
 },
 "nbformat": 3,
 "nbformat_minor": 0,
 "worksheets": [
  {
   "cells": [
    {
     "cell_type": "heading",
     "level": 1,
     "metadata": {},
     "source": [
      "Pre-Flight Check"
     ]
    },
    {
     "cell_type": "markdown",
     "metadata": {},
     "source": [
      "Let's verify that your [IPython Notebook](http://ipython.org/notebook.html) environment is up and running well..."
     ]
    },
    {
     "cell_type": "markdown",
     "metadata": {},
     "source": [
      "See the \"play\" button above? The one that looks like a sideways triangle? To run the following code cell, first click on it, then click the \"play\" button above:"
     ]
    },
    {
     "cell_type": "code",
     "collapsed": false,
     "input": [
      "import numpy as np\n",
      "\n",
      "a = 3\n",
      "x = np.array([ 5, 1, 5, 0 ])\n",
      "\n",
      "print np.add(x, a)"
     ],
     "language": "python",
     "metadata": {},
     "outputs": []
    },
    {
     "cell_type": "markdown",
     "metadata": {},
     "source": [
      "**Problem:** What numbers do you get as a result?"
     ]
    },
    {
     "cell_type": "markdown",
     "metadata": {},
     "source": [
      "When you have a spare hour, check out this O'Reilly webcast for an overview of today's material, [Computational Thinking: Just Enough Math](http://www.oreilly.com/pub/e/3114):"
     ]
    },
    {
     "cell_type": "code",
     "collapsed": false,
     "input": [
      "import IPython.display\n",
      "IPython.display.YouTubeVideo(\"TQ58cWgdCpA\")"
     ],
     "language": "python",
     "metadata": {},
     "outputs": []
    },
    {
     "cell_type": "markdown",
     "metadata": {},
     "source": [
      "Bokay, let's proceed\u2026"
     ]
    }
   ],
   "metadata": {}
  }
 ]
}